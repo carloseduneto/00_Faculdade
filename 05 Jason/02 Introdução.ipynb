{
 "cells": [
  {
   "cell_type": "code",
   "execution_count": 8,
   "metadata": {},
   "outputs": [],
   "source": [
    "#chave: valor\n",
    "Agenda= {\"Karol\": 999121212,\n",
    "\"Leide\": 122345678} #Agenda vai ser um dicionário"
   ]
  },
  {
   "cell_type": "code",
   "execution_count": 9,
   "metadata": {},
   "outputs": [
    {
     "data": {
      "text/plain": [
       "999121212"
      ]
     },
     "execution_count": 9,
     "metadata": {},
     "output_type": "execute_result"
    }
   ],
   "source": [
    "Agenda[\"Karol\"]"
   ]
  },
  {
   "cell_type": "code",
   "execution_count": 7,
   "metadata": {},
   "outputs": [],
   "source": [
    "Agenda[\"Brunin\"]= 453526473"
   ]
  },
  {
   "cell_type": "code",
   "execution_count": 10,
   "metadata": {},
   "outputs": [
    {
     "data": {
      "text/plain": [
       "{'Karol': 999121212, 'Leide': 122345678}"
      ]
     },
     "execution_count": 10,
     "metadata": {},
     "output_type": "execute_result"
    }
   ],
   "source": [
    "Agenda"
   ]
  },
  {
   "cell_type": "code",
   "execution_count": 13,
   "metadata": {},
   "outputs": [],
   "source": [
    "Contato={\"Meu Deus\":{\"email\": \"email@email.com\", \"WhatsApp\":2334323343}}"
   ]
  },
  {
   "cell_type": "code",
   "execution_count": null,
   "metadata": {},
   "outputs": [],
   "source": []
  },
  {
   "cell_type": "code",
   "execution_count": 15,
   "metadata": {},
   "outputs": [
    {
     "data": {
      "text/plain": [
       "'email@email.com'"
      ]
     },
     "execution_count": 15,
     "metadata": {},
     "output_type": "execute_result"
    }
   ],
   "source": [
    "Contato[\"Meu Deus\"][\"email\"]"
   ]
  },
  {
   "cell_type": "code",
   "execution_count": 16,
   "metadata": {},
   "outputs": [
    {
     "data": {
      "text/plain": [
       "dict"
      ]
     },
     "execution_count": 16,
     "metadata": {},
     "output_type": "execute_result"
    }
   ],
   "source": [
    "type(Contato)"
   ]
  },
  {
   "cell_type": "code",
   "execution_count": 17,
   "metadata": {},
   "outputs": [],
   "source": [
    "Valores=dict(Domingo=1, Segunda=2, Terça=3)"
   ]
  },
  {
   "cell_type": "code",
   "execution_count": 18,
   "metadata": {},
   "outputs": [
    {
     "data": {
      "text/plain": [
       "{'DOmingo': 1, 'Segunda': 2, 'Terça': 3}"
      ]
     },
     "execution_count": 18,
     "metadata": {},
     "output_type": "execute_result"
    }
   ],
   "source": [
    "Valores"
   ]
  },
  {
   "cell_type": "code",
   "execution_count": 19,
   "metadata": {},
   "outputs": [
    {
     "data": {
      "text/plain": [
       "3"
      ]
     },
     "execution_count": 19,
     "metadata": {},
     "output_type": "execute_result"
    }
   ],
   "source": [
    "Valores[\"Terça\"]"
   ]
  },
  {
   "cell_type": "code",
   "execution_count": 21,
   "metadata": {},
   "outputs": [],
   "source": [
    "ListaDeDiasDaSemana=['Segunda', 'Terça', 'Quarta', \"Quinta\", \"Sexta\"]\n",
    "PosicaoSemana=[2, 3, 4, 5, 6]"
   ]
  },
  {
   "cell_type": "code",
   "execution_count": 23,
   "metadata": {},
   "outputs": [],
   "source": [
    "Semana = {}\n",
    "for i, Dia in enumerate (ListaDeDiasDaSemana):\n",
    "    Semana[Dia]=PosicaoSemana[i]"
   ]
  },
  {
   "cell_type": "code",
   "execution_count": 24,
   "metadata": {},
   "outputs": [
    {
     "data": {
      "text/plain": [
       "{'Segunda': 2, 'Terça': 3, 'Quarta': 4, 'Quinta': 5, 'Sexta': 6}"
      ]
     },
     "execution_count": 24,
     "metadata": {},
     "output_type": "execute_result"
    }
   ],
   "source": [
    "Semana"
   ]
  },
  {
   "cell_type": "code",
   "execution_count": 26,
   "metadata": {},
   "outputs": [],
   "source": [
    "Semana2=dict(zip(ListaDeDiasDaSemana, PosicaoSemana)) #associa valor 1 com valor 2"
   ]
  },
  {
   "cell_type": "code",
   "execution_count": 27,
   "metadata": {},
   "outputs": [
    {
     "data": {
      "text/plain": [
       "{'Segunda': 2, 'Terça': 3, 'Quarta': 4, 'Quinta': 5, 'Sexta': 6}"
      ]
     },
     "execution_count": 27,
     "metadata": {},
     "output_type": "execute_result"
    }
   ],
   "source": [
    "Semana2"
   ]
  },
  {
   "cell_type": "code",
   "execution_count": 29,
   "metadata": {},
   "outputs": [],
   "source": [
    "Semana3 = dict([('Segunda',1),('Terça',2)])"
   ]
  },
  {
   "cell_type": "code",
   "execution_count": 30,
   "metadata": {},
   "outputs": [
    {
     "data": {
      "text/plain": [
       "{'Segunda': 1, 'Terça': 2}"
      ]
     },
     "execution_count": 30,
     "metadata": {},
     "output_type": "execute_result"
    }
   ],
   "source": [
    "Semana3"
   ]
  },
  {
   "cell_type": "code",
   "execution_count": 31,
   "metadata": {},
   "outputs": [
    {
     "data": {
      "text/plain": [
       "{'Meu Deus': {'email': 'email@email.com', 'WhatsApp': 2334323343}}"
      ]
     },
     "execution_count": 31,
     "metadata": {},
     "output_type": "execute_result"
    }
   ],
   "source": [
    "Contato"
   ]
  },
  {
   "cell_type": "code",
   "execution_count": 32,
   "metadata": {},
   "outputs": [
    {
     "data": {
      "text/plain": [
       "{'email': 'email@email.com', 'WhatsApp': 2334323343}"
      ]
     },
     "execution_count": 32,
     "metadata": {},
     "output_type": "execute_result"
    }
   ],
   "source": [
    "Contato.get(\"Meu Deus\") #retorna valores de um dicionário"
   ]
  },
  {
   "cell_type": "code",
   "execution_count": 38,
   "metadata": {},
   "outputs": [
    {
     "name": "stdout",
     "output_type": "stream",
     "text": [
      "{'email': 'email@email.com', 'WhatsApp': 2334323343}\n"
     ]
    }
   ],
   "source": [
    "Nome= \"Meu Deus\"\n",
    "if Nome in Contato:\n",
    "    print(Contato[Nome])\n",
    "\n",
    "else:\n",
    "    print(f\"{Nome} não temos esse contato.\")"
   ]
  },
  {
   "cell_type": "code",
   "execution_count": null,
   "metadata": {},
   "outputs": [],
   "source": []
  },
  {
   "cell_type": "code",
   "execution_count": 39,
   "metadata": {},
   "outputs": [
    {
     "data": {
      "text/plain": [
       "{'email': 'email@email.com', 'WhatsApp': 2334323343}"
      ]
     },
     "execution_count": 39,
     "metadata": {},
     "output_type": "execute_result"
    }
   ],
   "source": [
    "nome=\"Meu Deus\"\n",
    "Contato.get(nome, f\"{nome} não encontado\")"
   ]
  },
  {
   "cell_type": "code",
   "execution_count": 3,
   "metadata": {},
   "outputs": [
    {
     "data": {
      "text/plain": [
       "{'X-tudo': ('Leide', 'Bruno B', 'Bruno A')}"
      ]
     },
     "execution_count": 3,
     "metadata": {},
     "output_type": "execute_result"
    }
   ],
   "source": [
    "valores={}\n",
    "valores[\"X-tudo\"]=\"Leide\", \"Bruno B\", \"Bruno A\"\n",
    "valores"
   ]
  },
  {
   "cell_type": "code",
   "execution_count": 5,
   "metadata": {},
   "outputs": [],
   "source": [
    "produtos={}\n",
    "produtos[\"1AB\"]= {\"nome\" : \"Mouse\", \"Preço\" : 87.5}\n",
    "produtos[\"2XC\"]= {\"nome\": \"Teclado\", \"Preço\": 95.0}\n",
    "produtos[\"3AV\"]={\"nome\": \"Monitor\", \"Preço\": 1234.6}"
   ]
  },
  {
   "cell_type": "code",
   "execution_count": 6,
   "metadata": {},
   "outputs": [
    {
     "data": {
      "text/plain": [
       "dict_keys(['1AB', '2XC', '3AV'])"
      ]
     },
     "execution_count": 6,
     "metadata": {},
     "output_type": "execute_result"
    }
   ],
   "source": [
    "produtos.keys()"
   ]
  },
  {
   "cell_type": "code",
   "execution_count": 7,
   "metadata": {},
   "outputs": [
    {
     "data": {
      "text/plain": [
       "dict_values([{'nome': 'Mouse', 'Preço': 87.5}, {'nome': 'Teclado', 'Preço': 95.0}, {'nome': 'Monitor', 'Preço': 1234.6}])"
      ]
     },
     "execution_count": 7,
     "metadata": {},
     "output_type": "execute_result"
    }
   ],
   "source": [
    "produtos.values()"
   ]
  },
  {
   "cell_type": "code",
   "execution_count": 8,
   "metadata": {},
   "outputs": [
    {
     "data": {
      "text/plain": [
       "True"
      ]
     },
     "execution_count": 8,
     "metadata": {},
     "output_type": "execute_result"
    }
   ],
   "source": [
    "\"1AB\" in produtos"
   ]
  },
  {
   "cell_type": "code",
   "execution_count": 14,
   "metadata": {},
   "outputs": [],
   "source": [
    "def AdicionaRegistro(bd, Chave, Valores):\n",
    "    if Chave not in bd:\n",
    "        bd[Chave]=Valores\n",
    "        return True\n",
    "    return False"
   ]
  },
  {
   "cell_type": "code",
   "execution_count": 33,
   "metadata": {},
   "outputs": [
    {
     "name": "stdout",
     "output_type": "stream",
     "text": [
      "Item adicionado com sucesso\n"
     ]
    }
   ],
   "source": [
    "novoRegistro= input (\"Digite o código do novo produto: \")\n",
    "nomeDoProduto=input(\"Digite o nome do produto: \")\n",
    "valorDoProduto= float (input(\"Digite o valor do produto R$\"))\n",
    "item={\"nome\": nomeDoProduto, \"Preço\": valorDoProduto}\n",
    "retorno= AdicionaRegistro (produtos, novoRegistro, item)\n",
    "if retorno:\n",
    "    print(\"Item adicionado com sucesso\")\n",
    "else:\n",
    "    print(f\"Item adiconado com sucesso, chave {novoRegistro} existente\")"
   ]
  },
  {
   "cell_type": "code",
   "execution_count": 34,
   "metadata": {},
   "outputs": [
    {
     "data": {
      "text/plain": [
       "{'1AB': {'nome': 'Mouse', 'Preço': 87.5},\n",
       " '2XC': {'nome': 'Teclado', 'Preço': 95.0},\n",
       " '3AV': {'nome': 'Monitor', 'Preço': 1234.6},\n",
       " 'Leide': {'nome': '1000000000000000000000000000000000000000000000000000000000000000000000000000000000',\n",
       "  'preço': 1e+65},\n",
       " 'Cabo': {'nome': 'Cabo', 'Preço': 4444.0}}"
      ]
     },
     "execution_count": 34,
     "metadata": {},
     "output_type": "execute_result"
    }
   ],
   "source": [
    "produtos"
   ]
  },
  {
   "cell_type": "code",
   "execution_count": 32,
   "metadata": {},
   "outputs": [
    {
     "name": "stdout",
     "output_type": "stream",
     "text": [
      "CHAVE >>>>>> {'1AB'}\n",
      "Conteúdo >>>>>87.5\n",
      "@@@@@@@@@@@@@@@\n",
      "CHAVE >>>>>> {'2XC'}\n",
      "Conteúdo >>>>>95.0\n",
      "@@@@@@@@@@@@@@@\n",
      "CHAVE >>>>>> {'3AV'}\n",
      "Conteúdo >>>>>1234.6\n",
      "@@@@@@@@@@@@@@@\n",
      "CHAVE >>>>>> {'Leide'}\n"
     ]
    },
    {
     "ename": "KeyError",
     "evalue": "'Preço'",
     "output_type": "error",
     "traceback": [
      "\u001b[1;31m---------------------------------------------------------------------------\u001b[0m",
      "\u001b[1;31mKeyError\u001b[0m                                  Traceback (most recent call last)",
      "Cell \u001b[1;32mIn [32], line 4\u001b[0m\n\u001b[0;32m      2\u001b[0m conteudo \u001b[38;5;241m=\u001b[39m produtos[chave]\n\u001b[0;32m      3\u001b[0m \u001b[38;5;28mprint\u001b[39m(\u001b[38;5;124m\"\u001b[39m\u001b[38;5;124mCHAVE >>>>>>\u001b[39m\u001b[38;5;124m\"\u001b[39m,{chave})\n\u001b[1;32m----> 4\u001b[0m \u001b[38;5;28mprint\u001b[39m(\u001b[38;5;124mf\u001b[39m\u001b[38;5;124m\"\u001b[39m\u001b[38;5;124mConteúdo >>>>>\u001b[39m\u001b[38;5;132;01m{\u001b[39;00mconteudo[\u001b[38;5;124m'\u001b[39m\u001b[38;5;124mPreço\u001b[39m\u001b[38;5;124m'\u001b[39m]\u001b[38;5;132;01m}\u001b[39;00m\u001b[38;5;124m\"\u001b[39m)\n\u001b[0;32m      5\u001b[0m \u001b[38;5;28mprint\u001b[39m(\u001b[38;5;124m\"\u001b[39m\u001b[38;5;124m@\u001b[39m\u001b[38;5;124m\"\u001b[39m\u001b[38;5;241m*\u001b[39m\u001b[38;5;241m15\u001b[39m)\n",
      "\u001b[1;31mKeyError\u001b[0m: 'Preço'"
     ]
    }
   ],
   "source": [
    "for chave in produtos:\n",
    "    conteudo = produtos[chave]\n",
    "    print(\"CHAVE >>>>>>\",{chave})\n",
    "    print(f\"Conteúdo >>>>>{conteudo['Preço']}\")\n",
    "    print(\"@\"*15)"
   ]
  },
  {
   "cell_type": "code",
   "execution_count": 37,
   "metadata": {},
   "outputs": [
    {
     "name": "stdout",
     "output_type": "stream",
     "text": [
      "{'nome': 'Mouse', 'Preço': 87.5}\n",
      "{'nome': 'Teclado', 'Preço': 95.0}\n",
      "{'nome': 'Monitor', 'Preço': 1234.6}\n",
      "{'nome': '1000000000000000000000000000000000000000000000000000000000000000000000000000000000', 'preço': 1e+65}\n",
      "{'nome': 'Cabo', 'Preço': 4444.0}\n"
     ]
    }
   ],
   "source": [
    "for casinha in produtos:\n",
    "    analise=produtos[casinha]\n",
    "    print(analise)\n",
    "    if \"Monitor\" in analise:\n",
    "        print(analise)"
   ]
  }
 ],
 "metadata": {
  "kernelspec": {
   "display_name": "Python 3.9.13 64-bit",
   "language": "python",
   "name": "python3"
  },
  "language_info": {
   "codemirror_mode": {
    "name": "ipython",
    "version": 3
   },
   "file_extension": ".py",
   "mimetype": "text/x-python",
   "name": "python",
   "nbconvert_exporter": "python",
   "pygments_lexer": "ipython3",
   "version": "3.9.13"
  },
  "orig_nbformat": 4,
  "vscode": {
   "interpreter": {
    "hash": "5983d667a00b984c0e1127205aa8c9d7e5fe9e40964310e999f76f1273e16092"
   }
  }
 },
 "nbformat": 4,
 "nbformat_minor": 2
}
